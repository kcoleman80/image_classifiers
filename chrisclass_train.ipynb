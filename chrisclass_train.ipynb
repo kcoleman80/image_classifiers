{
  "cells": [
    {
      "metadata": {
        "trusted": true
      },
      "cell_type": "code",
      "source": "pwd",
      "execution_count": 1,
      "outputs": [
        {
          "output_type": "execute_result",
          "execution_count": 1,
          "data": {
            "text/plain": "'/home/nbuser/library/which_chris'"
          },
          "metadata": {}
        }
      ]
    },
    {
      "metadata": {
        "trusted": true
      },
      "cell_type": "code",
      "source": "!pip install --upgrade pip",
      "execution_count": 2,
      "outputs": [
        {
          "output_type": "stream",
          "text": "Collecting pip\n\u001b[?25l  Downloading https://files.pythonhosted.org/packages/54/0c/d01aa759fdc501a58f431eb594a17495f15b88da142ce14b5845662c13f3/pip-20.0.2-py2.py3-none-any.whl (1.4MB)\n\u001b[K     |████████████████████████████████| 1.4MB 1.8MB/s eta 0:00:01\n\u001b[?25hInstalling collected packages: pip\n  Found existing installation: pip 19.3.1\n    Uninstalling pip-19.3.1:\n      Successfully uninstalled pip-19.3.1\nSuccessfully installed pip-20.0.2\n",
          "name": "stdout"
        }
      ]
    },
    {
      "metadata": {
        "trusted": true
      },
      "cell_type": "code",
      "source": "!pip install tensorflow",
      "execution_count": 3,
      "outputs": [
        {
          "output_type": "stream",
          "text": "Requirement already satisfied: tensorflow in /home/nbuser/anaconda3_501/lib/python3.6/site-packages (2.0.0b1)\nRequirement already satisfied: numpy<2.0,>=1.14.5 in /home/nbuser/anaconda3_501/lib/python3.6/site-packages (from tensorflow) (1.16.2)\nRequirement already satisfied: grpcio>=1.8.6 in /home/nbuser/anaconda3_501/lib/python3.6/site-packages (from tensorflow) (1.25.0)\nRequirement already satisfied: wrapt>=1.11.1 in /home/nbuser/anaconda3_501/lib/python3.6/site-packages (from tensorflow) (1.11.2)\nRequirement already satisfied: tf-estimator-nightly<1.14.0.dev2019060502,>=1.14.0.dev2019060501 in /home/nbuser/anaconda3_501/lib/python3.6/site-packages (from tensorflow) (1.14.0.dev2019060501)\nRequirement already satisfied: termcolor>=1.1.0 in /home/nbuser/anaconda3_501/lib/python3.6/site-packages (from tensorflow) (1.1.0)\nRequirement already satisfied: absl-py>=0.7.0 in /home/nbuser/anaconda3_501/lib/python3.6/site-packages (from tensorflow) (0.8.1)\nRequirement already satisfied: keras-preprocessing>=1.0.5 in /home/nbuser/anaconda3_501/lib/python3.6/site-packages (from tensorflow) (1.1.0)\nRequirement already satisfied: astor>=0.6.0 in /home/nbuser/anaconda3_501/lib/python3.6/site-packages (from tensorflow) (0.8.0)\nRequirement already satisfied: protobuf>=3.6.1 in /home/nbuser/anaconda3_501/lib/python3.6/site-packages (from tensorflow) (3.10.0)\nRequirement already satisfied: keras-applications>=1.0.6 in /home/nbuser/anaconda3_501/lib/python3.6/site-packages (from tensorflow) (1.0.8)\nRequirement already satisfied: six>=1.10.0 in /home/nbuser/anaconda3_501/lib/python3.6/site-packages (from tensorflow) (1.11.0)\nRequirement already satisfied: wheel>=0.26 in /home/nbuser/anaconda3_501/lib/python3.6/site-packages (from tensorflow) (0.30.0)\nRequirement already satisfied: google-pasta>=0.1.6 in /home/nbuser/anaconda3_501/lib/python3.6/site-packages (from tensorflow) (0.1.8)\nRequirement already satisfied: tb-nightly<1.14.0a20190604,>=1.14.0a20190603 in /home/nbuser/anaconda3_501/lib/python3.6/site-packages (from tensorflow) (1.14.0a20190603)\nRequirement already satisfied: gast>=0.2.0 in /home/nbuser/anaconda3_501/lib/python3.6/site-packages (from tensorflow) (0.3.2)\nRequirement already satisfied: setuptools in /home/nbuser/anaconda3_501/lib/python3.6/site-packages (from protobuf>=3.6.1->tensorflow) (41.6.0)\nRequirement already satisfied: h5py in /home/nbuser/anaconda3_501/lib/python3.6/site-packages (from keras-applications>=1.0.6->tensorflow) (2.8.0)\nRequirement already satisfied: werkzeug>=0.11.15 in /home/nbuser/anaconda3_501/lib/python3.6/site-packages (from tb-nightly<1.14.0a20190604,>=1.14.0a20190603->tensorflow) (0.14.1)\nRequirement already satisfied: markdown>=2.6.8 in /home/nbuser/anaconda3_501/lib/python3.6/site-packages (from tb-nightly<1.14.0a20190604,>=1.14.0a20190603->tensorflow) (3.0.1)\n",
          "name": "stdout"
        }
      ]
    },
    {
      "metadata": {
        "trusted": true
      },
      "cell_type": "code",
      "source": "!pip install keras",
      "execution_count": 4,
      "outputs": [
        {
          "output_type": "stream",
          "text": "Requirement already satisfied: keras in /home/nbuser/anaconda3_501/lib/python3.6/site-packages (2.3.1)\nRequirement already satisfied: six>=1.9.0 in /home/nbuser/anaconda3_501/lib/python3.6/site-packages (from keras) (1.11.0)\nRequirement already satisfied: pyyaml in /home/nbuser/anaconda3_501/lib/python3.6/site-packages (from keras) (3.13)\nRequirement already satisfied: numpy>=1.9.1 in /home/nbuser/anaconda3_501/lib/python3.6/site-packages (from keras) (1.16.2)\nRequirement already satisfied: keras-applications>=1.0.6 in /home/nbuser/anaconda3_501/lib/python3.6/site-packages (from keras) (1.0.8)\nRequirement already satisfied: h5py in /home/nbuser/anaconda3_501/lib/python3.6/site-packages (from keras) (2.8.0)\nRequirement already satisfied: scipy>=0.14 in /home/nbuser/anaconda3_501/lib/python3.6/site-packages (from keras) (1.1.0)\nRequirement already satisfied: keras-preprocessing>=1.0.5 in /home/nbuser/anaconda3_501/lib/python3.6/site-packages (from keras) (1.1.0)\n",
          "name": "stdout"
        }
      ]
    },
    {
      "metadata": {
        "trusted": true
      },
      "cell_type": "code",
      "source": "#!/usr/bin/env python3\nimport keras\nfrom keras.preprocessing.image import ImageDataGenerator\nfrom keras.models import Sequential\nfrom keras.layers import Conv2D, MaxPooling2D\nfrom keras.layers import Activation, Dropout, Flatten, Dense\nfrom keras import backend as K",
      "execution_count": 5,
      "outputs": [
        {
          "output_type": "stream",
          "text": "Using TensorFlow backend.\n",
          "name": "stderr"
        }
      ]
    },
    {
      "metadata": {
        "trusted": true
      },
      "cell_type": "code",
      "source": "# dimensions of our images.\nimg_width, img_height = 150, 150",
      "execution_count": 6,
      "outputs": []
    },
    {
      "metadata": {
        "trusted": true
      },
      "cell_type": "code",
      "source": "train_data_dir = '/home/nbuser/library/which_chris/data/train'#image_classifier/data/train\nvalidation_data_dir = '//home/nbuser/library/which_chris/data/validation' #image_classifier/data/validation\n#only 31 pics of each dog and cat\nnb_train_samples = 15\nnb_validation_samples = 5\nepochs = 20 ###check\nbatch_size = 5 ##check",
      "execution_count": 7,
      "outputs": []
    },
    {
      "metadata": {
        "trusted": true
      },
      "cell_type": "code",
      "source": "if K.image_data_format() == 'channels_first':\n    input_shape = (3, img_width, img_height)\nelse:\n    input_shape = (img_width, img_height, 3)\n\nmodel = Sequential()\nmodel.add(Conv2D(32, (3, 3), input_shape=input_shape))\nmodel.add(Activation('relu'))\nmodel.add(MaxPooling2D(pool_size=(2, 2)))\n\nmodel.add(Conv2D(32, (3, 3)))\nmodel.add(Activation('relu'))\nmodel.add(MaxPooling2D(pool_size=(2, 2)))\n\nmodel.add(Conv2D(64, (3, 3)))\nmodel.add(Activation('relu'))\nmodel.add(MaxPooling2D(pool_size=(2, 2)))\n\nmodel.add(Flatten())\nmodel.add(Dense(64))\nmodel.add(Activation('relu'))\nmodel.add(Dropout(0.5))\nmodel.add(Dense(1))\nmodel.add(Activation('sigmoid'))\n\nmodel.compile(loss='binary_crossentropy', # or categorical_crossentropy\n              optimizer='rmsprop',# or adagrad\n              metrics=['accuracy'])\n\n",
      "execution_count": 8,
      "outputs": [
        {
          "output_type": "stream",
          "text": "WARNING:tensorflow:From /home/nbuser/anaconda3_501/lib/python3.6/site-packages/tensorflow/python/ops/nn_impl.py:182: add_dispatch_support.<locals>.wrapper (from tensorflow.python.ops.array_ops) is deprecated and will be removed in a future version.\nInstructions for updating:\nUse tf.where in 2.0, which has the same broadcast rule as np.where\n",
          "name": "stdout"
        }
      ]
    },
    {
      "metadata": {
        "trusted": true
      },
      "cell_type": "code",
      "source": "# this is the augmentation configuration we will use for training\ntrain_datagen = ImageDataGenerator(\n    rescale=1. / 255,\n    shear_range=0.2,\n    zoom_range=0.2,\n    horizontal_flip=True)",
      "execution_count": 9,
      "outputs": []
    },
    {
      "metadata": {
        "trusted": true
      },
      "cell_type": "code",
      "source": "# this is the augmentation configuration we will use for testing:\n# only rescaling\ntest_datagen = ImageDataGenerator(rescale=1. / 255)\n\ntrain_generator = train_datagen.flow_from_directory(\n    train_data_dir,\n    target_size=(img_width, img_height),\n    batch_size=batch_size,\n    class_mode='binary')\n\nprint(train_generator.class_indices)",
      "execution_count": 10,
      "outputs": [
        {
          "output_type": "stream",
          "text": "Found 60 images belonging to 4 classes.\n{'evans': 0, 'hemsworth': 1, 'pine': 2, 'pratt': 3}\n",
          "name": "stdout"
        }
      ]
    },
    {
      "metadata": {
        "trusted": true
      },
      "cell_type": "code",
      "source": "validation_generator = test_datagen.flow_from_directory(\n    validation_data_dir,\n    target_size=(img_width, img_height),\n    batch_size=batch_size,\n    class_mode='binary')\n\nmodel.fit_generator(\n    train_generator,\n    steps_per_epoch=nb_train_samples // batch_size,\n    epochs=epochs,\n    validation_data=validation_generator,\n    validation_steps=nb_validation_samples // batch_size)\n\nmodel.save('model.h5')",
      "execution_count": 11,
      "outputs": [
        {
          "output_type": "stream",
          "text": "Found 20 images belonging to 4 classes.\nEpoch 1/20\n3/3 [==============================] - 22s 7s/step - loss: -6.1119 - accuracy: 0.2667 - val_loss: -75.0659 - val_accuracy: 0.0000e+00\nEpoch 2/20\n3/3 [==============================] - 5s 2s/step - loss: -2.7508 - accuracy: 0.1333 - val_loss: -196.8334 - val_accuracy: 0.2000\nEpoch 3/20\n3/3 [==============================] - 8s 3s/step - loss: 49.1314 - accuracy: 0.1333 - val_loss: 4.4656 - val_accuracy: 0.2000\nEpoch 4/20\n3/3 [==============================] - 13s 4s/step - loss: -263.1061 - accuracy: 0.4000 - val_loss: -54.2920 - val_accuracy: 0.6000\nEpoch 5/20\n3/3 [==============================] - 12s 4s/step - loss: -261.6500 - accuracy: 0.4000 - val_loss: -1551.8899 - val_accuracy: 0.4000\nEpoch 6/20\n3/3 [==============================] - 4s 1s/step - loss: -1707.6599 - accuracy: 0.0667 - val_loss: -2507.7556 - val_accuracy: 0.0000e+00\nEpoch 7/20\n3/3 [==============================] - 4s 1s/step - loss: -6340.7133 - accuracy: 0.2667 - val_loss: -8312.2598 - val_accuracy: 0.2000\nEpoch 8/20\n3/3 [==============================] - 7s 2s/step - loss: -5390.8325 - accuracy: 0.2667 - val_loss: -7626.3086 - val_accuracy: 0.4000\nEpoch 9/20\n3/3 [==============================] - 6s 2s/step - loss: -6458.5296 - accuracy: 0.3333 - val_loss: -8493.6533 - val_accuracy: 0.2000\nEpoch 10/20\n3/3 [==============================] - 6s 2s/step - loss: -28136.2269 - accuracy: 0.2000 - val_loss: -35896.5703 - val_accuracy: 0.2000\nEpoch 11/20\n3/3 [==============================] - 4s 1s/step - loss: -32218.9844 - accuracy: 0.1333 - val_loss: -56912.0391 - val_accuracy: 0.2000\nEpoch 12/20\n3/3 [==============================] - 2s 820ms/step - loss: -52145.6725 - accuracy: 0.3333 - val_loss: -70135.4922 - val_accuracy: 0.4000\nEpoch 13/20\n3/3 [==============================] - 6s 2s/step - loss: 11914.8245 - accuracy: 0.2000 - val_loss: 9339.8955 - val_accuracy: 0.0000e+00\nEpoch 14/20\n3/3 [==============================] - 5s 2s/step - loss: -13992.0400 - accuracy: 0.4000 - val_loss: -51633.8945 - val_accuracy: 0.4000\nEpoch 15/20\n3/3 [==============================] - 5s 2s/step - loss: -114628.3555 - accuracy: 0.2000 - val_loss: -264534.0000 - val_accuracy: 0.2000\nEpoch 16/20\n3/3 [==============================] - 4s 1s/step - loss: -251866.6875 - accuracy: 0.2000 - val_loss: -139353.4844 - val_accuracy: 0.4000\nEpoch 17/20\n3/3 [==============================] - 6s 2s/step - loss: -51982.4401 - accuracy: 0.1333 - val_loss: -392445.7188 - val_accuracy: 0.0000e+00\nEpoch 18/20\n3/3 [==============================] - 3s 1s/step - loss: -141875.5514 - accuracy: 0.2667 - val_loss: 7626.3315 - val_accuracy: 0.4000\nEpoch 19/20\n3/3 [==============================] - 5s 2s/step - loss: -340447.3561 - accuracy: 0.2667 - val_loss: -507728.0000 - val_accuracy: 0.4000\nEpoch 20/20\n3/3 [==============================] - 3s 1s/step - loss: -408507.3250 - accuracy: 0.3333 - val_loss: -60941.0000 - val_accuracy: 0.2000\n",
          "name": "stdout"
        }
      ]
    },
    {
      "metadata": {
        "trusted": true
      },
      "cell_type": "code",
      "source": "",
      "execution_count": null,
      "outputs": []
    }
  ],
  "metadata": {
    "kernelspec": {
      "name": "python36",
      "display_name": "Python 3.6",
      "language": "python"
    },
    "language_info": {
      "mimetype": "text/x-python",
      "nbconvert_exporter": "python",
      "name": "python",
      "pygments_lexer": "ipython3",
      "version": "3.6.6",
      "file_extension": ".py",
      "codemirror_mode": {
        "version": 3,
        "name": "ipython"
      }
    }
  },
  "nbformat": 4,
  "nbformat_minor": 2
}