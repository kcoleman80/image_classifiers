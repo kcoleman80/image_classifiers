{
  "cells": [
    {
      "metadata": {
        "trusted": true
      },
      "cell_type": "code",
      "source": "pwd",
      "execution_count": 1,
      "outputs": [
        {
          "output_type": "execute_result",
          "execution_count": 1,
          "data": {
            "text/plain": "'/home/nbuser/library/which_chris'"
          },
          "metadata": {}
        }
      ]
    },
    {
      "metadata": {
        "trusted": true
      },
      "cell_type": "code",
      "source": "!pip install keras",
      "execution_count": 2,
      "outputs": [
        {
          "output_type": "stream",
          "text": "Requirement already satisfied: keras in /home/nbuser/anaconda3_501/lib/python3.6/site-packages (2.3.1)\nRequirement already satisfied: h5py in /home/nbuser/anaconda3_501/lib/python3.6/site-packages (from keras) (2.8.0)\nRequirement already satisfied: scipy>=0.14 in /home/nbuser/anaconda3_501/lib/python3.6/site-packages (from keras) (1.1.0)\nRequirement already satisfied: numpy>=1.9.1 in /home/nbuser/anaconda3_501/lib/python3.6/site-packages (from keras) (1.16.2)\nRequirement already satisfied: six>=1.9.0 in /home/nbuser/anaconda3_501/lib/python3.6/site-packages (from keras) (1.11.0)\nRequirement already satisfied: pyyaml in /home/nbuser/anaconda3_501/lib/python3.6/site-packages (from keras) (3.13)\nRequirement already satisfied: keras-applications>=1.0.6 in /home/nbuser/anaconda3_501/lib/python3.6/site-packages (from keras) (1.0.8)\nRequirement already satisfied: keras-preprocessing>=1.0.5 in /home/nbuser/anaconda3_501/lib/python3.6/site-packages (from keras) (1.1.0)\n",
          "name": "stdout"
        }
      ]
    },
    {
      "metadata": {
        "trusted": true
      },
      "cell_type": "code",
      "source": "import keras\nfrom keras.models import load_model\nfrom keras.preprocessing import image\nimport numpy as np\nfrom os import listdir\nfrom os.path import isfile, join",
      "execution_count": 3,
      "outputs": [
        {
          "output_type": "stream",
          "text": "Using TensorFlow backend.\n",
          "name": "stderr"
        }
      ]
    },
    {
      "metadata": {
        "trusted": true
      },
      "cell_type": "code",
      "source": "# dimensions of our images\nimg_width, img_height = 150, 150",
      "execution_count": 4,
      "outputs": []
    },
    {
      "metadata": {
        "trusted": true
      },
      "cell_type": "code",
      "source": "# load the model we saved\nmodel = load_model('model.h5')\nmodel.compile(loss='binary_crossentropy',\n              optimizer='rmsprop',\n              metrics=['accuracy'])\n\nmypath = \"/home/nbuser/library/which_chris/data/predict/\"\nonlyfiles = [f for f in listdir(mypath) if isfile(join(mypath, f))]\nprint(onlyfiles)\n# predicting images\nevans_counter = 0 \nhemsworth_counter  = 0\npine_counter = 0\npratt_counter = 0\nfor file in onlyfiles:\n    img = image.load_img(mypath+file, target_size=(img_width, img_height))\n    x = image.img_to_array(img)\n    x = np.expand_dims(x, axis=0)\n    \n    images = np.vstack([x])\n    classes = model.predict_classes(images, batch_size=10)\n    classes = classes[0][0]\n    \n    if classes == 0:\n        print(file + \": \" + 'Evans')\n        evans_counter += 1\n        \n    elif classes == 1:\n        print(file + \": \" + 'Hemsworth')\n        hemsworth_counter += 1\n        \n    elif classes == 2:\n        print(file + \": \" + 'Pine')\n        pine_counter += 1\n        \n    elif classes == 3:\n        print(file + \": \" + 'Pratt')\n        pratt_counter += 1\n        \nprint(\"Total Evans :\",evans_counter)\nprint(\"Total Hemsworth :\",hemsworth_counter)\nprint(\"Total Pine :\",pine_counter)\nprint(\"Total Pratt :\", pratt_counter)\n",
      "execution_count": 5,
      "outputs": [
        {
          "output_type": "stream",
          "text": "WARNING:tensorflow:From /home/nbuser/anaconda3_501/lib/python3.6/site-packages/tensorflow/python/ops/nn_impl.py:182: add_dispatch_support.<locals>.wrapper (from tensorflow.python.ops.array_ops) is deprecated and will be removed in a future version.\nInstructions for updating:\nUse tf.where in 2.0, which has the same broadcast rule as np.where\n['IMG_3110.jpeg', 'IMG_2463.jpeg', 'IMG_3049.jpeg', 'IMG_3046.jpeg']\nIMG_3110.jpeg: Hemsworth\nIMG_2463.jpeg: Hemsworth\nIMG_3049.jpeg: Hemsworth\nIMG_3046.jpeg: Hemsworth\nTotal Evans : 0\nTotal Hemsworth : 4\nTotal Pine : 0\nTotal Pratt : 0\n",
          "name": "stdout"
        }
      ]
    },
    {
      "metadata": {
        "trusted": true
      },
      "cell_type": "code",
      "source": "",
      "execution_count": null,
      "outputs": []
    },
    {
      "metadata": {
        "trusted": true
      },
      "cell_type": "code",
      "source": "",
      "execution_count": null,
      "outputs": []
    }
  ],
  "metadata": {
    "kernelspec": {
      "name": "python36",
      "display_name": "Python 3.6",
      "language": "python"
    },
    "language_info": {
      "mimetype": "text/x-python",
      "nbconvert_exporter": "python",
      "name": "python",
      "pygments_lexer": "ipython3",
      "version": "3.6.6",
      "file_extension": ".py",
      "codemirror_mode": {
        "version": 3,
        "name": "ipython"
      }
    }
  },
  "nbformat": 4,
  "nbformat_minor": 2
}